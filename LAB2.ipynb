{
 "cells": [
  {
   "cell_type": "markdown",
   "metadata": {},
   "source": [
    "## MATH 151 Lab # (replace # with appropriate number)\n",
    "\n",
    "Names of team members: (insert team members' names here)\n",
    "\n",
    "(Remember to double-click to edit this material, then Shift-Enter to convert it back to plain text.  Also remove all explanatory text in parentheses as your TA does not need to see this!)"
   ]
  },
  {
   "cell_type": "code",
   "execution_count": 2,
   "metadata": {},
   "outputs": [],
   "source": [
    "from sympy import *\n",
    "from sympy.plotting import (plot, plot_parametric,plot3d_parametric_surface, plot3d_parametric_line,plot3d)"
   ]
  },
  {
   "cell_type": "markdown",
   "metadata": {},
   "source": [
    "#1 (Optional, but not a bad idea: insert problem here)"
   ]
  },
  {
   "cell_type": "code",
   "execution_count": 5,
   "metadata": {},
   "outputs": [],
   "source": [
    "#FIND CARTESIAN EQ#"
   ]
  },
  {
   "cell_type": "markdown",
   "metadata": {},
   "source": [
    "#2"
   ]
  },
  {
   "cell_type": "code",
   "execution_count": 3,
   "metadata": {},
   "outputs": [],
   "source": [
    "# Insert code for problem #2 here.\n",
    "#x = ....\n",
    "#f = .....\n",
    "#limit(f,x,1) # 1 being the vaule that x aproaches \n",
    "# f.subs(x,1.1) - evaluates limit\n",
    "# val = [..,..,..]\n",
    "# num = [f.subs(x,i).evalf() for i in val] # will iterate val into num to solve for limit\n"
   ]
  },
  {
   "cell_type": "markdown",
   "metadata": {},
   "source": [
    "#3"
   ]
  },
  {
   "cell_type": "code",
   "execution_count": 3,
   "metadata": {},
   "outputs": [],
   "source": [
    "# Insert code for problem #3 here.\n",
    "#xt = ...\n",
    "yt = ...\n",
    "LHS = plug in xt into given eqution \n",
    "RHS = do above but for yt\n",
    "SUM = LHS-RHS should be zero i think"
   ]
  },
  {
   "cell_type": "markdown",
   "metadata": {},
   "source": [
    "#4"
   ]
  },
  {
   "cell_type": "code",
   "execution_count": 4,
   "metadata": {},
   "outputs": [],
   "source": [
    "# Insert code for problem #4 here.\n",
    "# Obviously, if there is NO problem #4, you may delete this cell (under \"Edit\" above)"
   ]
  },
  {
   "cell_type": "markdown",
   "metadata": {},
   "source": [
    "#5"
   ]
  },
  {
   "cell_type": "code",
   "execution_count": 6,
   "metadata": {},
   "outputs": [],
   "source": [
    "# Insert code for problem #5 here.  \n",
    "# Obviously, if there is NO problem #5, you may delete this cell (under \"Edit\" above)"
   ]
  }
 ],
 "metadata": {
  "kernelspec": {
   "display_name": "Python 3",
   "language": "python",
   "name": "python3"
  },
  "language_info": {
   "codemirror_mode": {
    "name": "ipython",
    "version": 3
   },
   "file_extension": ".py",
   "mimetype": "text/x-python",
   "name": "python",
   "nbconvert_exporter": "python",
   "pygments_lexer": "ipython3",
   "version": "3.7.3"
  }
 },
 "nbformat": 4,
 "nbformat_minor": 2
}
